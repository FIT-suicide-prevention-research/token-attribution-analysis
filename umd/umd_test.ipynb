{
 "cells": [
  {
   "cell_type": "code",
   "execution_count": 1,
   "metadata": {},
   "outputs": [],
   "source": [
    "import pandas as pd\n",
    "import matplotlib.pyplot as plt"
   ]
  },
  {
   "attachments": {},
   "cell_type": "markdown",
   "metadata": {},
   "source": [
    "# Preprocessing"
   ]
  },
  {
   "cell_type": "code",
   "execution_count": 70,
   "metadata": {},
   "outputs": [
    {
     "data": {
      "text/plain": [
       "Text(0.5, 1.0, 'Test labels')"
      ]
     },
     "execution_count": 70,
     "metadata": {},
     "output_type": "execute_result"
    },
    {
     "data": {
      "image/png": "[encoded data removed]",
      "text/plain": [
       "<Figure size 1000x300 with 2 Axes>"
      ]
     },
     "metadata": {},
     "output_type": "display_data"
    }
   ],
   "source": [
    "df_crowd = pd.read_csv(\"umd_reddit_suicidewatch_dataset_v2/crowd/train/crowd_train.csv\")\n",
    "df_crowd_test = pd.read_csv(\"umd_reddit_suicidewatch_dataset_v2/crowd/test/crowd_test_A.csv\")\n",
    "# create 1x2 subplot\n",
    "fig, (ax1, ax2) = plt.subplots(1, 2, figsize=(10, 3))\n",
    "# plot the bar chart\n",
    "df_crowd.value_counts(\"label\").plot(kind=\"bar\", ax=ax1)\n",
    "df_crowd_test.value_counts(\"label\").plot(kind=\"bar\", ax=ax2)\n",
    "# scale same y axis\n",
    "ax2.set_ylim(ax1.get_ylim())\n",
    "# set title\n",
    "ax1.set_title(\"Train labels\")\n",
    "ax2.set_title(\"Test labels\")"
   ]
  },
  {
   "cell_type": "code",
   "execution_count": 2,
   "metadata": {},
   "outputs": [],
   "source": [
    "def corpus_loader(df_post_path, df_crowd_path, task=\"A\", include_title=False):\n",
    "    \"\"\"\n",
    "    Load the corpus from the csv files.\n",
    "    :param df_post_path: path to the csv file containing raw posts\n",
    "    :param df_crowd_path: path to the csv file containing crowd labels\n",
    "    :param task: task to load, either \"A\", \"B\" or \"C\"\n",
    "        - **Task A**: Risk Assessment for SuicideWatch posters based *only* on their\n",
    "        SuicideWatch postings.\n",
    "        - **Task B**: Risk Assessment for SuicideWatch posters based on their\n",
    "        SuicideWatch postings *and* other Reddit postings.\n",
    "        - **Task C**: Screening. This task looks at posts that are *NOT* on\n",
    "        SuicideWatch, and determine the user's level of risk. \n",
    "    :param include_title: whether to include the post title in the corpus\n",
    "    :return: a dataframe with two columns: text and label\n",
    "        'd': '(d) Severe Risk', \n",
    "        'c': '(c) Moderate Risk', \n",
    "        'b': '(b) Low Risk', \n",
    "        'a': '(a) No Risk'\n",
    "    \"\"\"\n",
    "    df_post = pd.read_csv(df_post_path)\n",
    "    df_crowd = pd.read_csv(df_crowd_path)\n",
    "    df_suicidewatch = pd.merge(df_post[df_post[\"subreddit\"]==\"SuicideWatch\"], df_crowd, on=\"user_id\")\n",
    "    # create a dataframe with all post body and label\n",
    "    df_suicidewatch_body = df_suicidewatch[[\"post_body\", \"label\"]].copy()\n",
    "    # rename the column name\n",
    "    df_suicidewatch_body = df_suicidewatch_body.rename(columns={\"post_body\": \"text\"})\n",
    "\n",
    "    if include_title:\n",
    "        # create a dataframe with all post title and label\n",
    "        df_suicidewatch_title = df_suicidewatch[[\"post_title\", \"label\"]]\n",
    "        df_suicidewatch_title.rename(columns={\"post_title\": \"text\"}, inplace=True)\n",
    "\n",
    "        # concat the two dataframe\n",
    "        df_suicidewatch_corpus = pd.concat([df_suicidewatch_title, df_suicidewatch_body], ignore_index=True)\n",
    "    else:\n",
    "        df_suicidewatch_corpus = df_suicidewatch_body\n",
    "    # remove rows with text length less than 2\n",
    "    df_suicidewatch_corpus = df_suicidewatch_corpus[df_suicidewatch_corpus[\"text\"].str.split().str.len() > 1]\n",
    "\n",
    "    return df_suicidewatch_corpus"
   ]
  },
  {
   "attachments": {},
   "cell_type": "markdown",
   "metadata": {},
   "source": [
    "## Sliding text windows"
   ]
  },
  {
   "cell_type": "code",
   "execution_count": 4,
   "metadata": {},
   "outputs": [],
   "source": [
    "# slice text into batch of sliding windows of 512 tokens stride 256, form into list of strings, apply to row text\n",
    "def sliding_window(text, window_size=512, stride=256):\n",
    "    text = text.split()\n",
    "    text = [text[i:i+window_size] for i in range(0, len(text), stride)]\n",
    "    # remove last window if it is less than window_size\n",
    "    if len(text) > 1:\n",
    "        if len(text[-2]) < window_size:\n",
    "            text = text[:-1]\n",
    "    text = [\" \".join(t) for t in text]\n",
    "    return text"
   ]
  },
  {
   "attachments": {},
   "cell_type": "markdown",
   "metadata": {},
   "source": [
    "### Example"
   ]
  },
  {
   "cell_type": "code",
   "execution_count": 26,
   "metadata": {},
   "outputs": [
    {
     "name": "stdout",
     "output_type": "stream",
     "text": [
      "Lorem ipsum dolor sit amet, consectetur adipiscing elit, sed do eiusmod tempor incididunt ut labore et dolore magna aliqua. Habitant morbi tristique senectus et netus et malesuada fames ac. Duis convallis convallis tellus id interdum velit laoreet. Iaculis eu non diam phasellus vestibulum lorem sed risus ultricies. Condimentum id venenatis a condimentum vitae sapien. Amet est placerat in egestas erat. Viverra adipiscing at in tellus integer feugiat scelerisque varius. Enim ut tellus elementum sagittis vitae et leo. Enim sit amet venenatis urna cursus eget nunc scelerisque. Pulvinar neque laoreet suspendisse interdum consectetur libero id faucibus. Morbi quis commodo odio aenean sed adipiscing diam donec.\n",
      "\n",
      "(50) Lorem ipsum dolor sit amet, consectetur adipiscing elit, sed do eiusmod tempor incididunt ut labore et dolore magna aliqua. Habitant morbi tristique senectus et netus et malesuada fames ac. Duis convallis convallis tellus id interdum velit laoreet. Iaculis eu non diam phasellus vestibulum lorem sed risus ultricies. Condimentum id venenatis\n",
      "\n",
      "(50) et malesuada fames ac. Duis convallis convallis tellus id interdum velit laoreet. Iaculis eu non diam phasellus vestibulum lorem sed risus ultricies. Condimentum id venenatis a condimentum vitae sapien. Amet est placerat in egestas erat. Viverra adipiscing at in tellus integer feugiat scelerisque varius. Enim ut tellus elementum sagittis vitae\n",
      "\n",
      "(50) a condimentum vitae sapien. Amet est placerat in egestas erat. Viverra adipiscing at in tellus integer feugiat scelerisque varius. Enim ut tellus elementum sagittis vitae et leo. Enim sit amet venenatis urna cursus eget nunc scelerisque. Pulvinar neque laoreet suspendisse interdum consectetur libero id faucibus. Morbi quis commodo odio aenean\n",
      "\n",
      "(29) et leo. Enim sit amet venenatis urna cursus eget nunc scelerisque. Pulvinar neque laoreet suspendisse interdum consectetur libero id faucibus. Morbi quis commodo odio aenean sed adipiscing diam donec.\n",
      "\n"
     ]
    }
   ],
   "source": [
    "\n",
    "t = \"\"\"Lorem ipsum dolor sit amet, consectetur adipiscing elit, sed do eiusmod tempor incididunt ut labore et dolore magna aliqua. Habitant morbi tristique senectus et netus et malesuada fames ac. Duis convallis convallis tellus id interdum velit laoreet. Iaculis eu non diam phasellus vestibulum lorem sed risus ultricies. Condimentum id venenatis a condimentum vitae sapien. Amet est placerat in egestas erat. Viverra adipiscing at in tellus integer feugiat scelerisque varius. Enim ut tellus elementum sagittis vitae et leo. Enim sit amet venenatis urna cursus eget nunc scelerisque. Pulvinar neque laoreet suspendisse interdum consectetur libero id faucibus. Morbi quis commodo odio aenean sed adipiscing diam donec.\"\"\"\n",
    "print(t)\n",
    "print()\n",
    "for s in sliding_window(t,50,25):\n",
    "    print(f\"({len(s.split())}) {s}\")\n",
    "    print()"
   ]
  },
  {
   "attachments": {},
   "cell_type": "markdown",
   "metadata": {},
   "source": [
    "### Continue preprocessing"
   ]
  },
  {
   "cell_type": "code",
   "execution_count": 5,
   "metadata": {},
   "outputs": [],
   "source": [
    "def sliding_window_corpus(df_corpus, window_size=512, stride=256):\n",
    "    \"\"\"\n",
    "    Slice the text in the corpus into sliding windows with stride.\n",
    "    :param df_corpus: a dataframe with two columns: text and label\n",
    "    :param window_size: the size of the sliding window\n",
    "    :param stride: the stride of the sliding window\n",
    "    :return: a dataframe with two columns: text and label\n",
    "    \"\"\"\n",
    "    # apply sliding window to each text\n",
    "    df_corpus[\"text\"] = df_corpus[\"text\"].apply(sliding_window, args=(window_size, stride))\n",
    "    # explode the sliding windows into rows\n",
    "    df_corpus = df_corpus.explode(\"text\")\n",
    "    return df_corpus\n",
    "\n",
    "def preprocess(df_post_path, df_crowd_path, task=\"A\", include_title=False, window_size=512, stride=256):\n",
    "    \"\"\"\n",
    "    Preprocess the corpus from the csv files.\n",
    "    :params df_post_path, df_crowd_path: path to the csv files\n",
    "    :params task, include_title: see corpus_loader()\n",
    "    :params window_size, stride: see sliding_window_corpus()\n",
    "    :return: a dataframe with two columns: text and label\n",
    "        Label is re-encoded as:\n",
    "        0: '(a) No Risk'\n",
    "        1: '(b) Low Risk'\n",
    "        2: '(c) Moderate Risk'\n",
    "        3: '(d) High Risk'\n",
    "    \"\"\"\n",
    "    # load corpus\n",
    "    df_corpus = corpus_loader(df_post_path, df_crowd_path, task=task, include_title=include_title)\n",
    "\n",
    "    # apply sliding window to each text\n",
    "    df_corpus = sliding_window_corpus(df_corpus, window_size=window_size, stride=stride)\n",
    "\n",
    "    # reset index\n",
    "    df_corpus.reset_index(drop=True, inplace=True)\n",
    "    # encode label a b c d to 0 1 2 3\n",
    "    df_corpus[\"label\"] = df_corpus[\"label\"].map({\"a\": 0, \"b\": 1, \"c\": 2, \"d\": 3})\n",
    "\n",
    "    return df_corpus"
   ]
  },
  {
   "cell_type": "code",
   "execution_count": 6,
   "metadata": {},
   "outputs": [],
   "source": [
    "df_sw_corpus_train = preprocess(\"umd_reddit_suicidewatch_dataset_v2/crowd/train/shared_task_posts.csv\",\"umd_reddit_suicidewatch_dataset_v2/crowd/train/crowd_train.csv\")\n",
    "df_sw_corpus_test = preprocess(\"umd_reddit_suicidewatch_dataset_v2/crowd/test/shared_task_posts_test.csv\",\"umd_reddit_suicidewatch_dataset_v2/crowd/test/crowd_test_A.csv\")"
   ]
  },
  {
   "attachments": {},
   "cell_type": "markdown",
   "metadata": {},
   "source": [
    "# Fine-tuning transformer model(s)"
   ]
  },
  {
   "cell_type": "code",
   "execution_count": 2,
   "metadata": {},
   "outputs": [],
   "source": [
    "import pandas as pd"
   ]
  },
  {
   "cell_type": "code",
   "execution_count": 3,
   "metadata": {},
   "outputs": [],
   "source": [
    "df_sw_corpus_train = pd.read_parquet(\"umd/train.parquet.gzip\")"
   ]
  },
  {
   "cell_type": "code",
   "execution_count": 8,
   "metadata": {},
   "outputs": [
    {
     "name": "stderr",
     "output_type": "stream",
     "text": [
      "/home1/vnguyen2014/mambaforge/envs/dl/lib/python3.8/site-packages/tqdm/auto.py:21: TqdmWarning: IProgress not found. Please update jupyter and ipywidgets. See https://ipywidgets.readthedocs.io/en/stable/user_install.html\n",
      "  from .autonotebook import tqdm as notebook_tqdm\n",
      "2023-03-27 14:56:14.080963: I tensorflow/core/platform/cpu_feature_guard.cc:193] This TensorFlow binary is optimized with oneAPI Deep Neural Network Library (oneDNN) to use the following CPU instructions in performance-critical operations:  SSE4.1 SSE4.2 AVX AVX2 AVX512F AVX512_VNNI FMA\n",
      "To enable them in other operations, rebuild TensorFlow with the appropriate compiler flags.\n",
      "2023-03-27 14:56:14.246190: I tensorflow/core/util/port.cc:104] oneDNN custom operations are on. You may see slightly different numerical results due to floating-point round-off errors from different computation orders. To turn them off, set the environment variable `TF_ENABLE_ONEDNN_OPTS=0`.\n"
     ]
    }
   ],
   "source": [
    "from transformers import AutoTokenizer, AutoModelForSequenceClassification\n",
    "from datasets import Dataset"
   ]
  },
  {
   "attachments": {},
   "cell_type": "markdown",
   "metadata": {},
   "source": [
    "## Tokenization"
   ]
  },
  {
   "cell_type": "code",
   "execution_count": 9,
   "metadata": {},
   "outputs": [],
   "source": [
    "def tokenize_df(df_corpus, model_name, seed=42):\n",
    "    \"\"\"\n",
    "    Tokenize the corpus using the model_name.\n",
    "    :param df_corpus: a pandas dataframe with two columns: text and label\n",
    "    :param model_name: the name of the model\n",
    "    :return: a dictionary with keys \"input_ids\", \"attention_mask\", \"label\"\n",
    "    \"\"\"\n",
    "    # load tokenizer\n",
    "    tokenizer = AutoTokenizer.from_pretrained(model_name)\n",
    "    # load df into Dataset\n",
    "    dataset = Dataset.from_pandas(df_corpus)\n",
    "    # tokenize the corpus\n",
    "    tokenized_dataset = dataset.map(lambda x: tokenizer(x[\"text\"], truncation=True, padding=\"max_length\"), batched=True)\n",
    "\n",
    "    # format object to be used by the model\n",
    "    tokenized_dataset = tokenized_dataset.remove_columns([\"text\"])\n",
    "    tokenized_dataset = tokenized_dataset.rename_column(\"label\", \"labels\")\n",
    "    tokenized_dataset.set_format(\"torch\")\n",
    "    tokenized_dataset = tokenized_dataset.shuffle(seed=seed)\n",
    "    return tokenized_dataset"
   ]
  },
  {
   "cell_type": "code",
   "execution_count": 12,
   "metadata": {},
   "outputs": [
    {
     "name": "stderr",
     "output_type": "stream",
     "text": [
      "                                                               \r"
     ]
    }
   ],
   "source": [
    "model_list = [\"mental/mental-roberta-base\", \"mental/mental-bert-base-uncased\", \"AIMH/mental-roberta-large\", \"AIMH/mental-bert-base-cased\", \"AIMH/mental-bert-large-uncased\"]\n",
    "tokenized_dataset_train = tokenize_df(df_sw_corpus_train, \"mental/mental-bert-base-uncased\")\n",
    "tokenized_dataset_test = tokenize_df(df_sw_corpus_test, \"mental/mental-bert-base-uncased\")"
   ]
  },
  {
   "cell_type": "code",
   "execution_count": 15,
   "metadata": {},
   "outputs": [],
   "source": [
    "# fine-tune the model\n",
    "from transformers import Trainer, TrainingArguments\n",
    "import numpy as np\n",
    "import evaluate"
   ]
  },
  {
   "cell_type": "code",
   "execution_count": 1,
   "metadata": {},
   "outputs": [],
   "source": [
    "def train_trainer_ddp():\n",
    "    model = model\n",
    "    metric = evaluate.load(\"accuracy\")\n",
    "\n",
    "    def compute_metrics(eval_pred):\n",
    "        logits, labels = eval_pred\n",
    "        predictions = np.argmax(logits, axis=-1)\n",
    "        return metric.compute(predictions=predictions, references=labels)\n",
    "    \n",
    "    # fine-tune the model\n",
    "    training_args = TrainingArguments(\n",
    "        output_dir=\"./results\",          # output directory\n",
    "        num_train_epochs=5,              # total # of training epochs\n",
    "        per_device_train_batch_size=64,  # batch size per device during training\n",
    "        per_device_eval_batch_size=64,   # batch size for evaluation\n",
    "        warmup_steps=500,                # number of warmup steps for learning rate scheduler\n",
    "        weight_decay=0.01,               # strength of weight decay\n",
    "        logging_dir='./logs',            # directory for storing logs\n",
    "        logging_steps=10,\n",
    "        evaluation_strategy=\"steps\",\n",
    "        load_best_model_at_end=True,\n",
    "        metric_for_best_model=\"eval_loss\",\n",
    "        greater_is_better=False,\n",
    "        torch_compile=True,\n",
    "    )\n",
    "\n",
    "    trainer = Trainer(\n",
    "        model=model,                         # the instantiated 🤗 Transformers model to be trained\n",
    "        args=training_args,                  # training arguments, defined above\n",
    "        train_dataset=tokenized_dataset_train,         # training dataset\n",
    "        eval_dataset=tokenized_dataset_test,            # evaluation dataset\n",
    "        compute_metrics=compute_metrics,     # the callback that computes metrics of interest\n",
    "    )\n",
    "\n",
    "    trainer.train()"
   ]
  },
  {
   "cell_type": "code",
   "execution_count": null,
   "metadata": {},
   "outputs": [],
   "source": [
    "from accelerate import notebook_launcher\n",
    "notebook_launcher(train_trainer_ddp, num_processes=4)"
   ]
  },
  {
   "cell_type": "code",
   "execution_count": 1,
   "metadata": {},
   "outputs": [
    {
     "data": {
      "text/html": [
       "\n",
       "      <iframe id=\"tensorboard-frame-6881a4cf0256c68\" width=\"100%\" height=\"800\" frameborder=\"0\">\n",
       "      </iframe>\n",
       "      <script>\n",
       "        (function() {\n",
       "          const frame = document.getElementById(\"tensorboard-frame-6881a4cf0256c68\");\n",
       "          const url = new URL(\"/\", window.location);\n",
       "          const port = 6007;\n",
       "          if (port) {\n",
       "            url.port = port;\n",
       "          }\n",
       "          frame.src = url;\n",
       "        })();\n",
       "      </script>\n",
       "    "
      ],
      "text/plain": [
       "<IPython.core.display.HTML object>"
      ]
     },
     "metadata": {},
     "output_type": "display_data"
    }
   ],
   "source": [
    "%load_ext tensorboard\n",
    "%tensorboard --logdir logs --port 6007"
   ]
  },
  {
   "cell_type": "code",
   "execution_count": null,
   "metadata": {},
   "outputs": [],
   "source": []
  }
 ],
 "metadata": {
  "kernelspec": {
   "display_name": "dl",
   "language": "python",
   "name": "python3"
  },
  "language_info": {
   "codemirror_mode": {
    "name": "ipython",
    "version": 3
   },
   "file_extension": ".py",
   "mimetype": "text/x-python",
   "name": "python",
   "nbconvert_exporter": "python",
   "pygments_lexer": "ipython3",
   "version": "3.8.16"
  },
  "orig_nbformat": 4
 },
 "nbformat": 4,
 "nbformat_minor": 2
}
